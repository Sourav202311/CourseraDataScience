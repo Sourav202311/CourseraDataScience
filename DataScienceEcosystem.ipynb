{
 "cells": [
  {
   "cell_type": "markdown",
   "id": "293e23c0-115e-4722-8ef8-746c99924f7f",
   "metadata": {},
   "source": [
    "# Data Science Tools and Ecosystem"
   ]
  },
  {
   "cell_type": "markdown",
   "id": "658323ac-f2e7-42d2-b9e2-493e533d3440",
   "metadata": {},
   "source": [
    "### In this notebook, Data Science Tools and Ecosystem are summarized."
   ]
  },
  {
   "cell_type": "markdown",
   "id": "771806ef-8b28-4c4f-9f9a-f8911950067f",
   "metadata": {},
   "source": [
    "**Objectives:**"
   ]
  },
  {
   "cell_type": "markdown",
   "id": "27f317cd-10b1-4a57-80f4-ef13aad55aeb",
   "metadata": {
    "tags": []
   },
   "source": [
    "* Some of the popular languages used by Data Scientists\n",
    "* Common libraries used by Data Scientists\n",
    "* Data Science Tools\n",
    "* Arithmetic operations in Jupyter Notebook using Python"
   ]
  },
  {
   "cell_type": "markdown",
   "id": "f9f7da54-140f-466d-8293-f1185fd53f3f",
   "metadata": {},
   "source": [
    "Some of the popular languages that Data Scientists use are:"
   ]
  },
  {
   "cell_type": "markdown",
   "id": "ae6e6692-924e-4516-86a7-1fdedfe0b98b",
   "metadata": {},
   "source": [
    "1. Python\n",
    "2. R\n",
    "3. Java\n",
    "4. SQL\n",
    "5. Ruby\n",
    "6. Julia\n",
    "7. Scala"
   ]
  },
  {
   "cell_type": "markdown",
   "id": "113dacd9-903b-4f53-9b62-96c5ce0ef0e6",
   "metadata": {},
   "source": [
    "Some of the commonly used libraries used by Data Scientists include:"
   ]
  },
  {
   "cell_type": "markdown",
   "id": "df63d717-8b53-43eb-9565-a4cb80756986",
   "metadata": {
    "tags": []
   },
   "source": [
    "1. NumPy\n",
    "2. Keras\n",
    "3. Matplotlib\n",
    "4. Pandas\n",
    "5. PyTorch\n",
    "6. SciPy\n",
    "7. Scikit-learn\n",
    "9. TensorFlow"
   ]
  },
  {
   "cell_type": "markdown",
   "id": "0380132b-f150-49f5-b58e-118fb68973bb",
   "metadata": {},
   "source": [
    "| Data Science Tools |\n",
    "|----------------------|\n",
    "| RStudio |\n",
    "| Apache Spark |\n",
    "| TensorFlow |\n",
    "| Apache Hadoop|\n"
   ]
  },
  {
   "cell_type": "markdown",
   "id": "f975afdf-52a2-4b32-beae-09ef4eaf6ac6",
   "metadata": {},
   "source": [
    "### Below are few examples of evaluating arithmetic expressions in Python"
   ]
  },
  {
   "cell_type": "code",
   "execution_count": 3,
   "id": "3b13f839-d1b8-4092-8226-a63ffd4250bf",
   "metadata": {
    "tags": []
   },
   "outputs": [],
   "source": [
    "a=3"
   ]
  },
  {
   "cell_type": "code",
   "execution_count": 4,
   "id": "4d1e220c-f039-4de8-8fda-9e88a77e0c3d",
   "metadata": {
    "tags": []
   },
   "outputs": [],
   "source": [
    "b=4"
   ]
  },
  {
   "cell_type": "code",
   "execution_count": 5,
   "id": "ed8857a1-820f-4ddf-9a9c-5c94bed601ea",
   "metadata": {
    "tags": []
   },
   "outputs": [],
   "source": [
    "c=5"
   ]
  },
  {
   "cell_type": "code",
   "execution_count": 10,
   "id": "d68a70aa-6e94-4aab-ba1c-cbc600584f01",
   "metadata": {
    "tags": []
   },
   "outputs": [],
   "source": [
    "result=(a*b)+5"
   ]
  },
  {
   "cell_type": "code",
   "execution_count": 11,
   "id": "e317e665-978c-43a5-93df-9eb0fd6f964c",
   "metadata": {
    "tags": []
   },
   "outputs": [
    {
     "name": "stdout",
     "output_type": "stream",
     "text": [
      "17\n"
     ]
    }
   ],
   "source": [
    "print(result)"
   ]
  },
  {
   "cell_type": "markdown",
   "id": "3357b80c-56f5-4eb3-99f5-7d886b9d13b2",
   "metadata": {},
   "source": [
    "***This will convert 200 minutes to hours by dividing by 60.***"
   ]
  },
  {
   "cell_type": "code",
   "execution_count": 17,
   "id": "fe97f0a2-9239-4380-9809-2d9f16c4513f",
   "metadata": {
    "tags": []
   },
   "outputs": [],
   "source": [
    "time_in_min=200"
   ]
  },
  {
   "cell_type": "code",
   "execution_count": 18,
   "id": "8408ac9a-7967-4a62-a3d8-070399f3e616",
   "metadata": {
    "tags": []
   },
   "outputs": [],
   "source": [
    "time_in_hr=time_in_min/60"
   ]
  },
  {
   "cell_type": "code",
   "execution_count": 19,
   "id": "0ba90d7a-bece-4678-897c-2decc2f52a83",
   "metadata": {
    "tags": []
   },
   "outputs": [
    {
     "name": "stdout",
     "output_type": "stream",
     "text": [
      "The time in hours will be =  3.3333333333333335\n"
     ]
    }
   ],
   "source": [
    "print(\"The time in hours will be = \", time_in_hr)"
   ]
  },
  {
   "cell_type": "markdown",
   "id": "73fbf74f-cf15-4bac-8a20-dffe2e9f9a2e",
   "metadata": {},
   "source": [
    "## Author"
   ]
  },
  {
   "cell_type": "markdown",
   "id": "e6d33dfe-be29-4f5f-86e7-181b497384d7",
   "metadata": {},
   "source": [
    "Sourav Roy"
   ]
  }
 ],
 "metadata": {
  "kernelspec": {
   "display_name": "Python",
   "language": "python",
   "name": "conda-env-python-py"
  },
  "language_info": {
   "codemirror_mode": {
    "name": "ipython",
    "version": 3
   },
   "file_extension": ".py",
   "mimetype": "text/x-python",
   "name": "python",
   "nbconvert_exporter": "python",
   "pygments_lexer": "ipython3",
   "version": "3.7.12"
  }
 },
 "nbformat": 4,
 "nbformat_minor": 5
}
